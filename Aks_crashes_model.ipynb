{
 "cells": [
  {
   "cell_type": "code",
   "execution_count": null,
   "id": "e1c5fd0d-34f9-4197-a2bc-cf2f51ab3018",
   "metadata": {},
   "outputs": [],
   "source": [
    "import pandas as pd\n",
    "import numpy as np\n",
    "import matplotlib.pyplot as plt\n",
    "%matplotlib inline\n",
    "import seaborn as sns"
   ]
  },
  {
   "cell_type": "code",
   "execution_count": 14,
   "id": "d535fe1f-493a-48ed-a331-3f736847850a",
   "metadata": {},
   "outputs": [
    {
     "data": {
      "text/html": [
       "<div>\n",
       "<style scoped>\n",
       "    .dataframe tbody tr th:only-of-type {\n",
       "        vertical-align: middle;\n",
       "    }\n",
       "\n",
       "    .dataframe tbody tr th {\n",
       "        vertical-align: top;\n",
       "    }\n",
       "\n",
       "    .dataframe thead th {\n",
       "        text-align: right;\n",
       "    }\n",
       "</style>\n",
       "<table border=\"1\" class=\"dataframe\">\n",
       "  <thead>\n",
       "    <tr style=\"text-align: right;\">\n",
       "      <th></th>\n",
       "      <th>Quarter</th>\n",
       "      <th>State</th>\n",
       "      <th>Total_Crashes</th>\n",
       "      <th>Num_Injured</th>\n",
       "      <th>Num_Killed</th>\n",
       "      <th>Total_Vehicles_Involved</th>\n",
       "      <th>SPV</th>\n",
       "      <th>DAD</th>\n",
       "      <th>PWR</th>\n",
       "      <th>FTQ</th>\n",
       "      <th>Other_Factors</th>\n",
       "    </tr>\n",
       "  </thead>\n",
       "  <tbody>\n",
       "    <tr>\n",
       "      <th>0</th>\n",
       "      <td>Q4 2020</td>\n",
       "      <td>Abia</td>\n",
       "      <td>30</td>\n",
       "      <td>146</td>\n",
       "      <td>31</td>\n",
       "      <td>37</td>\n",
       "      <td>19</td>\n",
       "      <td>0</td>\n",
       "      <td>0</td>\n",
       "      <td>0</td>\n",
       "      <td>18</td>\n",
       "    </tr>\n",
       "    <tr>\n",
       "      <th>1</th>\n",
       "      <td>Q4 2020</td>\n",
       "      <td>Adamawa</td>\n",
       "      <td>77</td>\n",
       "      <td>234</td>\n",
       "      <td>36</td>\n",
       "      <td>94</td>\n",
       "      <td>57</td>\n",
       "      <td>0</td>\n",
       "      <td>0</td>\n",
       "      <td>0</td>\n",
       "      <td>37</td>\n",
       "    </tr>\n",
       "    <tr>\n",
       "      <th>2</th>\n",
       "      <td>Q4 2020</td>\n",
       "      <td>Akwa Ibom</td>\n",
       "      <td>22</td>\n",
       "      <td>28</td>\n",
       "      <td>7</td>\n",
       "      <td>24</td>\n",
       "      <td>15</td>\n",
       "      <td>0</td>\n",
       "      <td>0</td>\n",
       "      <td>1</td>\n",
       "      <td>8</td>\n",
       "    </tr>\n",
       "    <tr>\n",
       "      <th>3</th>\n",
       "      <td>Q4 2020</td>\n",
       "      <td>Anambra</td>\n",
       "      <td>72</td>\n",
       "      <td>152</td>\n",
       "      <td>20</td>\n",
       "      <td>83</td>\n",
       "      <td>43</td>\n",
       "      <td>1</td>\n",
       "      <td>0</td>\n",
       "      <td>0</td>\n",
       "      <td>39</td>\n",
       "    </tr>\n",
       "    <tr>\n",
       "      <th>4</th>\n",
       "      <td>Q4 2020</td>\n",
       "      <td>Bauchi</td>\n",
       "      <td>154</td>\n",
       "      <td>685</td>\n",
       "      <td>90</td>\n",
       "      <td>140</td>\n",
       "      <td>74</td>\n",
       "      <td>0</td>\n",
       "      <td>0</td>\n",
       "      <td>0</td>\n",
       "      <td>66</td>\n",
       "    </tr>\n",
       "  </tbody>\n",
       "</table>\n",
       "</div>"
      ],
      "text/plain": [
       "   Quarter      State  Total_Crashes  Num_Injured  Num_Killed  \\\n",
       "0  Q4 2020       Abia             30          146          31   \n",
       "1  Q4 2020    Adamawa             77          234          36   \n",
       "2  Q4 2020  Akwa Ibom             22           28           7   \n",
       "3  Q4 2020    Anambra             72          152          20   \n",
       "4  Q4 2020     Bauchi            154          685          90   \n",
       "\n",
       "   Total_Vehicles_Involved  SPV  DAD  PWR  FTQ  Other_Factors  \n",
       "0                       37   19    0    0    0             18  \n",
       "1                       94   57    0    0    0             37  \n",
       "2                       24   15    0    0    1              8  \n",
       "3                       83   43    1    0    0             39  \n",
       "4                      140   74    0    0    0             66  "
      ]
     },
     "execution_count": 14,
     "metadata": {},
     "output_type": "execute_result"
    }
   ],
   "source": [
    "df = pd.read_csv(\"Desktop/Data Analytics and Science/Datasets/Nigerian_Road_Traffic_Crashes_2020_2024.csv\")\n",
    "df.head()"
   ]
  },
  {
   "cell_type": "code",
   "execution_count": 16,
   "id": "b70ce190-dbd6-478f-b8bd-5cc96feb0425",
   "metadata": {},
   "outputs": [
    {
     "data": {
      "text/html": [
       "<div>\n",
       "<style scoped>\n",
       "    .dataframe tbody tr th:only-of-type {\n",
       "        vertical-align: middle;\n",
       "    }\n",
       "\n",
       "    .dataframe tbody tr th {\n",
       "        vertical-align: top;\n",
       "    }\n",
       "\n",
       "    .dataframe thead th {\n",
       "        text-align: right;\n",
       "    }\n",
       "</style>\n",
       "<table border=\"1\" class=\"dataframe\">\n",
       "  <thead>\n",
       "    <tr style=\"text-align: right;\">\n",
       "      <th></th>\n",
       "      <th>Quarter</th>\n",
       "      <th>State</th>\n",
       "      <th>Total_Crashes</th>\n",
       "      <th>Num_Injured</th>\n",
       "      <th>Num_Killed</th>\n",
       "      <th>Total_Vehicles_Involved</th>\n",
       "      <th>SPV</th>\n",
       "      <th>DAD</th>\n",
       "      <th>PWR</th>\n",
       "      <th>FTQ</th>\n",
       "      <th>Other_Factors</th>\n",
       "    </tr>\n",
       "  </thead>\n",
       "  <tbody>\n",
       "    <tr>\n",
       "      <th>2</th>\n",
       "      <td>Q4 2020</td>\n",
       "      <td>Akwa Ibom</td>\n",
       "      <td>22</td>\n",
       "      <td>28</td>\n",
       "      <td>7</td>\n",
       "      <td>24</td>\n",
       "      <td>15</td>\n",
       "      <td>0</td>\n",
       "      <td>0</td>\n",
       "      <td>1</td>\n",
       "      <td>8</td>\n",
       "    </tr>\n",
       "    <tr>\n",
       "      <th>39</th>\n",
       "      <td>Q1 2021</td>\n",
       "      <td>Akwa Ibom</td>\n",
       "      <td>22</td>\n",
       "      <td>35</td>\n",
       "      <td>12</td>\n",
       "      <td>24</td>\n",
       "      <td>15</td>\n",
       "      <td>0</td>\n",
       "      <td>0</td>\n",
       "      <td>0</td>\n",
       "      <td>9</td>\n",
       "    </tr>\n",
       "    <tr>\n",
       "      <th>76</th>\n",
       "      <td>Q2 2021</td>\n",
       "      <td>Akwa Ibom</td>\n",
       "      <td>16</td>\n",
       "      <td>32</td>\n",
       "      <td>10</td>\n",
       "      <td>17</td>\n",
       "      <td>10</td>\n",
       "      <td>0</td>\n",
       "      <td>0</td>\n",
       "      <td>0</td>\n",
       "      <td>7</td>\n",
       "    </tr>\n",
       "    <tr>\n",
       "      <th>113</th>\n",
       "      <td>Q3 2021</td>\n",
       "      <td>Akwa Ibom</td>\n",
       "      <td>13</td>\n",
       "      <td>18</td>\n",
       "      <td>1</td>\n",
       "      <td>15</td>\n",
       "      <td>0</td>\n",
       "      <td>0</td>\n",
       "      <td>0</td>\n",
       "      <td>11</td>\n",
       "      <td>4</td>\n",
       "    </tr>\n",
       "  </tbody>\n",
       "</table>\n",
       "</div>"
      ],
      "text/plain": [
       "     Quarter      State  Total_Crashes  Num_Injured  Num_Killed  \\\n",
       "2    Q4 2020  Akwa Ibom             22           28           7   \n",
       "39   Q1 2021  Akwa Ibom             22           35          12   \n",
       "76   Q2 2021  Akwa Ibom             16           32          10   \n",
       "113  Q3 2021  Akwa Ibom             13           18           1   \n",
       "\n",
       "     Total_Vehicles_Involved  SPV  DAD  PWR  FTQ  Other_Factors  \n",
       "2                         24   15    0    0    1              8  \n",
       "39                        24   15    0    0    0              9  \n",
       "76                        17   10    0    0    0              7  \n",
       "113                       15    0    0    0   11              4  "
      ]
     },
     "execution_count": 16,
     "metadata": {},
     "output_type": "execute_result"
    }
   ],
   "source": [
    "Aks_crashes = df[df['State'] == 'Akwa Ibom']\n",
    "Aks_crashes.head(4)"
   ]
  },
  {
   "cell_type": "code",
   "execution_count": 18,
   "id": "d5c1bb19-f6e5-4789-a7a7-0310365fe9ea",
   "metadata": {},
   "outputs": [],
   "source": [
    "Aks_crashes.reset_index(drop = True, inplace = True)"
   ]
  },
  {
   "cell_type": "code",
   "execution_count": 22,
   "id": "a4da5165-4230-4205-b567-20ce088342ed",
   "metadata": {},
   "outputs": [
    {
     "data": {
      "text/plain": [
       "(14, 11)"
      ]
     },
     "execution_count": 22,
     "metadata": {},
     "output_type": "execute_result"
    }
   ],
   "source": [
    "Aks_crashes.shape"
   ]
  },
  {
   "cell_type": "code",
   "execution_count": 24,
   "id": "f918f3ab-b97a-455c-aa4f-a2eabdf7b273",
   "metadata": {},
   "outputs": [
    {
     "name": "stderr",
     "output_type": "stream",
     "text": [
      "C:\\Users\\HP\\AppData\\Local\\Temp\\ipykernel_2112\\2667785237.py:2: SettingWithCopyWarning: \n",
      "A value is trying to be set on a copy of a slice from a DataFrame.\n",
      "Try using .loc[row_indexer,col_indexer] = value instead\n",
      "\n",
      "See the caveats in the documentation: https://pandas.pydata.org/pandas-docs/stable/user_guide/indexing.html#returning-a-view-versus-a-copy\n",
      "  Aks_crashes[['Qutr', 'Year']] = Aks_crashes['Quarter'].str.split(' ', expand=True)\n",
      "C:\\Users\\HP\\AppData\\Local\\Temp\\ipykernel_2112\\2667785237.py:2: SettingWithCopyWarning: \n",
      "A value is trying to be set on a copy of a slice from a DataFrame.\n",
      "Try using .loc[row_indexer,col_indexer] = value instead\n",
      "\n",
      "See the caveats in the documentation: https://pandas.pydata.org/pandas-docs/stable/user_guide/indexing.html#returning-a-view-versus-a-copy\n",
      "  Aks_crashes[['Qutr', 'Year']] = Aks_crashes['Quarter'].str.split(' ', expand=True)\n"
     ]
    },
    {
     "data": {
      "text/html": [
       "<div>\n",
       "<style scoped>\n",
       "    .dataframe tbody tr th:only-of-type {\n",
       "        vertical-align: middle;\n",
       "    }\n",
       "\n",
       "    .dataframe tbody tr th {\n",
       "        vertical-align: top;\n",
       "    }\n",
       "\n",
       "    .dataframe thead th {\n",
       "        text-align: right;\n",
       "    }\n",
       "</style>\n",
       "<table border=\"1\" class=\"dataframe\">\n",
       "  <thead>\n",
       "    <tr style=\"text-align: right;\">\n",
       "      <th></th>\n",
       "      <th>Quarter</th>\n",
       "      <th>State</th>\n",
       "      <th>Total_Crashes</th>\n",
       "      <th>Num_Injured</th>\n",
       "      <th>Num_Killed</th>\n",
       "      <th>Total_Vehicles_Involved</th>\n",
       "      <th>SPV</th>\n",
       "      <th>DAD</th>\n",
       "      <th>PWR</th>\n",
       "      <th>FTQ</th>\n",
       "      <th>Other_Factors</th>\n",
       "      <th>Qutr</th>\n",
       "      <th>Year</th>\n",
       "    </tr>\n",
       "  </thead>\n",
       "  <tbody>\n",
       "    <tr>\n",
       "      <th>0</th>\n",
       "      <td>Q4 2020</td>\n",
       "      <td>Akwa Ibom</td>\n",
       "      <td>22</td>\n",
       "      <td>28</td>\n",
       "      <td>7</td>\n",
       "      <td>24</td>\n",
       "      <td>15</td>\n",
       "      <td>0</td>\n",
       "      <td>0</td>\n",
       "      <td>1</td>\n",
       "      <td>8</td>\n",
       "      <td>Q4</td>\n",
       "      <td>2020</td>\n",
       "    </tr>\n",
       "    <tr>\n",
       "      <th>1</th>\n",
       "      <td>Q1 2021</td>\n",
       "      <td>Akwa Ibom</td>\n",
       "      <td>22</td>\n",
       "      <td>35</td>\n",
       "      <td>12</td>\n",
       "      <td>24</td>\n",
       "      <td>15</td>\n",
       "      <td>0</td>\n",
       "      <td>0</td>\n",
       "      <td>0</td>\n",
       "      <td>9</td>\n",
       "      <td>Q1</td>\n",
       "      <td>2021</td>\n",
       "    </tr>\n",
       "    <tr>\n",
       "      <th>2</th>\n",
       "      <td>Q2 2021</td>\n",
       "      <td>Akwa Ibom</td>\n",
       "      <td>16</td>\n",
       "      <td>32</td>\n",
       "      <td>10</td>\n",
       "      <td>17</td>\n",
       "      <td>10</td>\n",
       "      <td>0</td>\n",
       "      <td>0</td>\n",
       "      <td>0</td>\n",
       "      <td>7</td>\n",
       "      <td>Q2</td>\n",
       "      <td>2021</td>\n",
       "    </tr>\n",
       "    <tr>\n",
       "      <th>3</th>\n",
       "      <td>Q3 2021</td>\n",
       "      <td>Akwa Ibom</td>\n",
       "      <td>13</td>\n",
       "      <td>18</td>\n",
       "      <td>1</td>\n",
       "      <td>15</td>\n",
       "      <td>0</td>\n",
       "      <td>0</td>\n",
       "      <td>0</td>\n",
       "      <td>11</td>\n",
       "      <td>4</td>\n",
       "      <td>Q3</td>\n",
       "      <td>2021</td>\n",
       "    </tr>\n",
       "    <tr>\n",
       "      <th>4</th>\n",
       "      <td>Q4 2021</td>\n",
       "      <td>Akwa Ibom</td>\n",
       "      <td>22</td>\n",
       "      <td>39</td>\n",
       "      <td>10</td>\n",
       "      <td>23</td>\n",
       "      <td>0</td>\n",
       "      <td>0</td>\n",
       "      <td>0</td>\n",
       "      <td>12</td>\n",
       "      <td>11</td>\n",
       "      <td>Q4</td>\n",
       "      <td>2021</td>\n",
       "    </tr>\n",
       "  </tbody>\n",
       "</table>\n",
       "</div>"
      ],
      "text/plain": [
       "   Quarter      State  Total_Crashes  Num_Injured  Num_Killed  \\\n",
       "0  Q4 2020  Akwa Ibom             22           28           7   \n",
       "1  Q1 2021  Akwa Ibom             22           35          12   \n",
       "2  Q2 2021  Akwa Ibom             16           32          10   \n",
       "3  Q3 2021  Akwa Ibom             13           18           1   \n",
       "4  Q4 2021  Akwa Ibom             22           39          10   \n",
       "\n",
       "   Total_Vehicles_Involved  SPV  DAD  PWR  FTQ  Other_Factors Qutr  Year  \n",
       "0                       24   15    0    0    1              8   Q4  2020  \n",
       "1                       24   15    0    0    0              9   Q1  2021  \n",
       "2                       17   10    0    0    0              7   Q2  2021  \n",
       "3                       15    0    0    0   11              4   Q3  2021  \n",
       "4                       23    0    0    0   12             11   Q4  2021  "
      ]
     },
     "execution_count": 24,
     "metadata": {},
     "output_type": "execute_result"
    }
   ],
   "source": [
    "from re import A\n",
    "Aks_crashes[['Qutr', 'Year']] = Aks_crashes['Quarter'].str.split(' ', expand=True)\n",
    "Aks_crashes.head()"
   ]
  },
  {
   "cell_type": "code",
   "execution_count": 26,
   "id": "b17ccc86-d680-4a07-b3ee-ce8564093193",
   "metadata": {},
   "outputs": [],
   "source": [
    "Aks_crashes = Aks_crashes.drop(columns = ['Quarter', 'State'])"
   ]
  },
  {
   "cell_type": "code",
   "execution_count": 8,
   "id": "bac3cba0-f414-4c63-be09-176ecbb7e134",
   "metadata": {},
   "outputs": [
    {
     "name": "stdout",
     "output_type": "stream",
     "text": [
      "<class 'pandas.core.frame.DataFrame'>\n",
      "RangeIndex: 14 entries, 0 to 13\n",
      "Data columns (total 11 columns):\n",
      " #   Column                   Non-Null Count  Dtype \n",
      "---  ------                   --------------  ----- \n",
      " 0   Total_Crashes            14 non-null     int64 \n",
      " 1   Num_Injured              14 non-null     int64 \n",
      " 2   Num_Killed               14 non-null     int64 \n",
      " 3   Total_Vehicles_Involved  14 non-null     int64 \n",
      " 4   SPV                      14 non-null     int64 \n",
      " 5   DAD                      14 non-null     int64 \n",
      " 6   PWR                      14 non-null     int64 \n",
      " 7   FTQ                      14 non-null     int64 \n",
      " 8   Other_Factors            14 non-null     int64 \n",
      " 9   Qutr                     14 non-null     object\n",
      " 10  Year                     14 non-null     object\n",
      "dtypes: int64(9), object(2)\n",
      "memory usage: 1.3+ KB\n"
     ]
    }
   ],
   "source": [
    "Aks_crashes.info()"
   ]
  },
  {
   "cell_type": "code",
   "execution_count": 9,
   "id": "f7c08143-f64b-4390-830b-3739f19f2c68",
   "metadata": {},
   "outputs": [
    {
     "data": {
      "text/plain": [
       "Total_Crashes              0\n",
       "Num_Injured                0\n",
       "Num_Killed                 0\n",
       "Total_Vehicles_Involved    0\n",
       "SPV                        0\n",
       "DAD                        0\n",
       "PWR                        0\n",
       "FTQ                        0\n",
       "Other_Factors              0\n",
       "Qutr                       0\n",
       "Year                       0\n",
       "dtype: int64"
      ]
     },
     "execution_count": 9,
     "metadata": {},
     "output_type": "execute_result"
    }
   ],
   "source": [
    "Aks_crashes.isnull().sum()"
   ]
  },
  {
   "cell_type": "code",
   "execution_count": 10,
   "id": "bd604e02-795a-463e-970f-a6432e3402ac",
   "metadata": {},
   "outputs": [
    {
     "data": {
      "image/png": "[encoded data removed]",
      "text/plain": [
       "<Figure size 1000x600 with 1 Axes>"
      ]
     },
     "metadata": {},
     "output_type": "display_data"
    }
   ],
   "source": [
    "#some visualization\n",
    "yearly_crashes = Aks_crashes.groupby('Year')['Total_Crashes'].sum().reset_index()\n",
    "\n",
    "plt.figure(figsize=(10, 6))\n",
    "plt.plot(yearly_crashes['Year'], yearly_crashes['Total_Crashes'], marker='o', linestyle='-')\n",
    "plt.title('Trend of Total Road Crashes in Akwa Ibom From Q4 2020 to Q1 2024')\n",
    "plt.xlabel('Year')\n",
    "plt.ylabel('Total Crashes')\n",
    "plt.grid(True)\n",
    "plt.show()"
   ]
  },
  {
   "cell_type": "code",
   "execution_count": 11,
   "id": "b0d27972-d270-4920-9705-cfeed324b6bc",
   "metadata": {},
   "outputs": [
    {
     "data": {
      "image/png": "[encoded data removed]",
      "text/plain": [
       "<Figure size 1000x600 with 1 Axes>"
      ]
     },
     "metadata": {},
     "output_type": "display_data"
    }
   ],
   "source": [
    "quarterly_crashes = Aks_crashes.groupby('Qutr')['Total_Crashes'].sum().reset_index()\n",
    "\n",
    "plt.figure(figsize=(10, 6))\n",
    "plt.bar(quarterly_crashes['Qutr'], quarterly_crashes['Total_Crashes'])\n",
    "plt.title('Trend of Total Crashes Based on Quarters')\n",
    "plt.xlabel('Quarter')\n",
    "plt.ylabel('Total Crashes')\n",
    "plt.xticks(rotation=45)\n",
    "plt.grid(axis='y')\n",
    "plt.show()"
   ]
  },
  {
   "cell_type": "code",
   "execution_count": 30,
   "id": "d6f2940e-635a-48cd-8630-ee143528bf7c",
   "metadata": {},
   "outputs": [
    {
     "data": {
      "image/png": "[encoded data removed]",
      "text/plain": [
       "<Figure size 1000x600 with 1 Axes>"
      ]
     },
     "metadata": {},
     "output_type": "display_data"
    }
   ],
   "source": [
    "factor_crashes = Aks_crashes[['SPV', 'DAD', 'PWR', 'FTQ', 'Other_Factors']].sum()\n",
    "\n",
    "plt.figure(figsize=(10, 6))  \n",
    "plt.bar(factor_crashes.index, factor_crashes.values) \n",
    "plt.title('What Factor Contributes More to Total Crashes in Akwa Ibom')\n",
    "plt.xlabel('Factors')\n",
    "plt.ylabel('Total Crashes')\n",
    "plt.xticks(rotation=45, ha='right')  \n",
    "plt.tight_layout()\n",
    "plt.grid(axis='y')\n",
    "plt.show()"
   ]
  },
  {
   "cell_type": "code",
   "execution_count": 42,
   "id": "37145a1f-6bf4-4feb-afdb-651b29c273b7",
   "metadata": {},
   "outputs": [
    {
     "data": {
      "text/plain": [
       "Index(['Total_Crashes', 'Num_Injured', 'Num_Killed', 'Total_Vehicles_Involved',\n",
       "       'SPV', 'DAD', 'PWR', 'FTQ', 'Other_Factors', 'Qutr', 'Year'],\n",
       "      dtype='object')"
      ]
     },
     "execution_count": 42,
     "metadata": {},
     "output_type": "execute_result"
    }
   ],
   "source": [
    "Aks_crashes.columns"
   ]
  },
  {
   "cell_type": "code",
   "execution_count": 68,
   "id": "0c82db60-5d02-4047-817f-d5fc803fcea8",
   "metadata": {},
   "outputs": [],
   "source": [
    "x = Aks_crashes.drop(columns = ['Total_Crashes', 'Qutr'], axis = 1)\n",
    "y = Aks_crashes['Total_Crashes']"
   ]
  },
  {
   "cell_type": "code",
   "execution_count": 70,
   "id": "2cc3c753-68ec-4c13-acda-833f86bbb8da",
   "metadata": {},
   "outputs": [],
   "source": [
    "from sklearn.ensemble import RandomForestRegressor\n",
    "from sklearn.model_selection import train_test_split\n",
    "from sklearn.metrics import mean_squared_error, r2_score"
   ]
  },
  {
   "cell_type": "code",
   "execution_count": 72,
   "id": "585641e4-4b88-40fd-8aa4-d2afea43d163",
   "metadata": {},
   "outputs": [],
   "source": [
    "x_train, x_test, y_train, y_test = train_test_split(x, y, test_size=0.2, random_state=20)"
   ]
  },
  {
   "cell_type": "code",
   "execution_count": 74,
   "id": "a0427da6-7b17-4bad-9ece-722da9dec91d",
   "metadata": {},
   "outputs": [],
   "source": [
    "rf_model = RandomForestRegressor(n_estimators=200, random_state=20)\n",
    "rf_model.fit(x_train, y_train)\n",
    "rf_pred = rf_model.predict(x_test)"
   ]
  },
  {
   "cell_type": "code",
   "execution_count": 76,
   "id": "3435fef9-0f93-455f-a6e0-3abbd9edd8b0",
   "metadata": {},
   "outputs": [
    {
     "name": "stdout",
     "output_type": "stream",
     "text": [
      "Mean Squared Error: 8.08841666666667\n",
      "R-squared: 0.8170961055276381\n"
     ]
    }
   ],
   "source": [
    "mse = mean_squared_error(y_test, rf_pred)\n",
    "r2 = r2_score(y_test, rf_pred)\n",
    "\n",
    "print(\"Mean Squared Error:\", mse)\n",
    "print(\"R-squared:\", r2)"
   ]
  },
  {
   "cell_type": "code",
   "execution_count": 78,
   "id": "ff35f58c-53bf-49ab-b667-406d9d53957f",
   "metadata": {},
   "outputs": [
    {
     "name": "stdout",
     "output_type": "stream",
     "text": [
      "Model saved at: C:\\Users\\HP\\Aks_crashes_ml_model.joblib\n"
     ]
    }
   ],
   "source": [
    "from flask import Flask, request, jsonify\n",
    "import joblib\n",
    "import os\n",
    "\n",
    "# Save the model \n",
    "model_path = 'Aks_crashes_ml_model.joblib'\n",
    "joblib.dump(rf_model, model_path)\n",
    "model_path = os.path.abspath(model_path)\n",
    "print(f\"Model saved at: {model_path}\")\n",
    "\n",
    "# Load the model\n",
    "model = joblib.load(model_path)\n",
    "\n",
    "# Initialize Flask app\n",
    "app = Flask(__name__)\n",
    "\n",
    "@app.route('/')\n",
    "def home():\n",
    "    return \"Welcome to the Traffic Crash Prediction Model API!\"\n",
    "\n",
    "@app.route('/predict', methods=['POST'])\n",
    "def predict():\n",
    "    # Parse input JSON data\n",
    "    data = request.json\n",
    "    print(\"Recieved data:\", data)\n",
    "    try:\n",
    "        # Validate input\n",
    "        required_keys = ['Num_Injured', 'Num_Killed', 'Total_Vehicles_Involved', 'SPV', 'DAD', 'PWR', 'FTQ', 'Other_Factors', 'Year']\n",
    "        if not all(key in data for key in required_keys):\n",
    "            return jsonify({'error': 'Missing required keys in input data'}), 400\n",
    "\n",
    "        # Extract features\n",
    "        features = [\n",
    "            data['Num_Injured'],\n",
    "            data['Num_Killed'],\n",
    "            data['Total_Vehicles_Involved'],\n",
    "            data['SPV'],\n",
    "            data['DAD'],\n",
    "            data['PWR'],\n",
    "            data['FTQ'],\n",
    "            data['Other_Factors'],\n",
    "            data['Year']\n",
    "        ]\n",
    "        \n",
    "        # Predict using the model\n",
    "        prediction = model.predict([features])\n",
    "        return jsonify({'prediction': int(prediction[0])})\n",
    "    except Exception as e:\n",
    "        return jsonify({'error': f\"An error occurred: {str(e)}\"}), 500"
   ]
  },
  {
   "cell_type": "code",
   "execution_count": null,
   "id": "7330f79b-3e53-4fa2-8eec-d06c3fcd0baf",
   "metadata": {
    "scrolled": true
   },
   "outputs": [
    {
     "name": "stdout",
     "output_type": "stream",
     "text": [
      " * Serving Flask app '__main__'\n",
      " * Debug mode: off\n"
     ]
    },
    {
     "name": "stderr",
     "output_type": "stream",
     "text": [
      "WARNING: This is a development server. Do not use it in a production deployment. Use a production WSGI server instead.\n",
      " * Running on http://127.0.0.1:5000\n",
      "Press CTRL+C to quit\n",
      "127.0.0.1 - - [07/Dec/2024 07:42:14] \"GET / HTTP/1.1\" 200 -\n",
      "C:\\Users\\HP\\anaconda3\\Lib\\site-packages\\sklearn\\base.py:493: UserWarning: X does not have valid feature names, but RandomForestRegressor was fitted with feature names\n",
      "  warnings.warn(\n",
      "127.0.0.1 - - [07/Dec/2024 07:44:20] \"POST /predict HTTP/1.1\" 200 -\n"
     ]
    },
    {
     "name": "stdout",
     "output_type": "stream",
     "text": [
      "Recieved data: {'Num_Injured': 280, 'Num_Killed': 50, 'Total_Vehicles_Involved': 150, 'SPV': 60, 'DAD': 5, 'PWR': 10, 'FTQ': 15, 'Other_Factors': 38, 'Year': 2025}\n"
     ]
    }
   ],
   "source": [
    "if __name__ == '__main__':\n",
    "    app.run(debug=False, use_reloader=False)"
   ]
  },
  {
   "cell_type": "code",
   "execution_count": null,
   "id": "dca98226-7e79-4341-b5d6-2196e510293d",
   "metadata": {},
   "outputs": [],
   "source": []
  }
 ],
 "metadata": {
  "kernelspec": {
   "display_name": "Python 3 (ipykernel)",
   "language": "python",
   "name": "python3"
  },
  "language_info": {
   "codemirror_mode": {
    "name": "ipython",
    "version": 3
   },
   "file_extension": ".py",
   "mimetype": "text/x-python",
   "name": "python",
   "nbconvert_exporter": "python",
   "pygments_lexer": "ipython3",
   "version": "3.12.4"
  }
 },
 "nbformat": 4,
 "nbformat_minor": 5
}
